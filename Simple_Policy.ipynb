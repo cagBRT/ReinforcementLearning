{
  "nbformat": 4,
  "nbformat_minor": 0,
  "metadata": {
    "anaconda-cloud": {},
    "kernelspec": {
      "display_name": "Python [conda env:py2]",
      "language": "python",
      "name": "conda-env-py2-py"
    },
    "language_info": {
      "codemirror_mode": {
        "name": "ipython",
        "version": 2
      },
      "file_extension": ".py",
      "mimetype": "text/x-python",
      "name": "python",
      "nbconvert_exporter": "python",
      "pygments_lexer": "ipython2",
      "version": "2.7.13"
    },
    "colab": {
      "name": "Simple-Policy.ipynb",
      "provenance": []
    }
  },
  "cells": [
    {
      "cell_type": "markdown",
      "metadata": {
        "deletable": true,
        "editable": true,
        "id": "IWZFU87vb8gi"
      },
      "source": [
        "# Simple Reinforcement Learning in Tensorflow Part 1: \n",
        "## The Multi-armed bandit\n",
        "This tutorial contains a simple example of how to build a policy-gradient based agent that can solve the multi-armed bandit problem. For more information, see this [Medium post](https://medium.com/@awjuliani/super-simple-reinforcement-learning-tutorial-part-1-fd544fab149).\n",
        "\n",
        "For more Reinforcement Learning algorithms, including DQN and Model-based learning in Tensorflow, see my Github repo, [DeepRL-Agents](https://github.com/awjuliani/DeepRL-Agents). "
      ]
    },
    {
      "cell_type": "code",
      "source": [
        "!pip install --upgrade tf_slim"
      ],
      "metadata": {
        "id": "AzGZjDUsKrqL",
        "outputId": "7b42879a-f380-45df-83af-0ec18bbd9adb",
        "colab": {
          "base_uri": "https://localhost:8080/"
        }
      },
      "execution_count": 3,
      "outputs": [
        {
          "output_type": "stream",
          "name": "stdout",
          "text": [
            "Looking in indexes: https://pypi.org/simple, https://us-python.pkg.dev/colab-wheels/public/simple/\n",
            "Collecting tf_slim\n",
            "  Downloading tf_slim-1.1.0-py2.py3-none-any.whl (352 kB)\n",
            "\u001b[K     |████████████████████████████████| 352 kB 8.6 MB/s \n",
            "\u001b[?25hRequirement already satisfied: absl-py>=0.2.2 in /usr/local/lib/python3.7/dist-packages (from tf_slim) (1.2.0)\n",
            "Installing collected packages: tf-slim\n",
            "Successfully installed tf-slim-1.1.0\n"
          ]
        }
      ]
    },
    {
      "cell_type": "code",
      "metadata": {
        "deletable": true,
        "editable": true,
        "id": "uSQI8rVtb8gk",
        "colab": {
          "base_uri": "https://localhost:8080/"
        },
        "outputId": "ed89b95c-52c4-4753-d802-62f8a87a2214"
      },
      "source": [
        "import tensorflow.compat.v1 as tf\n",
        "tf.disable_v2_behavior()\n",
        "import tf_slim as slim\n",
        "import numpy as np"
      ],
      "execution_count": 8,
      "outputs": [
        {
          "output_type": "stream",
          "name": "stderr",
          "text": [
            "WARNING:tensorflow:From /usr/local/lib/python3.7/dist-packages/tensorflow/python/compat/v2_compat.py:107: disable_resource_variables (from tensorflow.python.ops.variable_scope) is deprecated and will be removed in a future version.\n",
            "Instructions for updating:\n",
            "non-resource variables are not supported in the long term\n"
          ]
        }
      ]
    },
    {
      "cell_type": "markdown",
      "metadata": {
        "deletable": true,
        "editable": true,
        "id": "Ji80obCBb8gm"
      },
      "source": [
        "### The Bandit\n",
        "Here we define our bandit. For this example we are using a four-armed bandit. The pullBandit function generates a random number from a normal distribution with a mean of 0. The lower the bandit number, the more likely a positive reward will be returned. We want our agent to learn to always choose the arm that will give that positive reward."
      ]
    },
    {
      "cell_type": "code",
      "metadata": {
        "deletable": true,
        "editable": true,
        "id": "_KYfHj0jb8gn"
      },
      "source": [
        "#List out our bandit arms. \n",
        "#Currently arm 4 (index #3) is set to most often provide a positive reward.\n",
        "bandit_arms = [0.2,0,-0.2,-2]\n",
        "num_arms = len(bandit_arms)\n",
        "def pullBandit(bandit):\n",
        "    #Get a random number.\n",
        "    result = np.random.randn(1)\n",
        "    if result > bandit:\n",
        "        #return a positive reward.\n",
        "        return 1\n",
        "    else:\n",
        "        #return a negative reward.\n",
        "        return -1"
      ],
      "execution_count": 5,
      "outputs": []
    },
    {
      "cell_type": "markdown",
      "metadata": {
        "deletable": true,
        "editable": true,
        "id": "5MA5myzJb8gy"
      },
      "source": [
        "### The Agent\n",
        "The code below established our simple neural agent. It consists of a set of values for each of the bandit arms. Each value is an estimate of the value of the return from choosing the bandit. We use a policy gradient method to update the agent by moving the value for the selected action toward the recieved reward."
      ]
    },
    {
      "cell_type": "code",
      "metadata": {
        "deletable": true,
        "editable": true,
        "id": "nSKqqdByb8gy"
      },
      "source": [
        "tf.compat.v1.reset_default_graph()\n",
        "\n",
        "#These two lines established the feed-forward part of the network. \n",
        "weights = tf.Variable(tf.ones([num_arms]))\n",
        "output = tf.nn.softmax(weights)\n",
        "\n",
        "#The next six lines establish the training proceedure. We feed the reward and chosen action into the network\n",
        "#to compute the loss, and use it to update the network.\n",
        "reward_holder = tf.placeholder(shape=[1],dtype=tf.float32)\n",
        "action_holder = tf.placeholder(shape=[1],dtype=tf.int32)\n",
        "\n",
        "responsible_output = tf.slice(output,action_holder,[1])\n",
        "loss = -(tf.log(responsible_output)*reward_holder)\n",
        "optimizer = tf.train.AdamOptimizer(learning_rate=1e-3)\n",
        "update = optimizer.minimize(loss)"
      ],
      "execution_count": 9,
      "outputs": []
    },
    {
      "cell_type": "markdown",
      "metadata": {
        "deletable": true,
        "editable": true,
        "id": "zRJ19kbZb8g1"
      },
      "source": [
        "### Training the Agent"
      ]
    },
    {
      "cell_type": "markdown",
      "metadata": {
        "deletable": true,
        "editable": true,
        "id": "SlL1ZEVIb8g1"
      },
      "source": [
        "We will train our agent by taking actions in our environment, and recieving rewards. Using the rewards and actions, we can know how to properly update our network in order to more often choose actions that will yield the highest rewards over time."
      ]
    },
    {
      "cell_type": "code",
      "metadata": {
        "deletable": true,
        "editable": true,
        "id": "_TnqkOkib8g2",
        "colab": {
          "base_uri": "https://localhost:8080/"
        },
        "outputId": "00e5e3b4-ee8f-48fa-91a5-f46201dfd7a0"
      },
      "source": [
        "total_episodes = 1000 #Set total number of episodes to train agent on.\n",
        "total_reward = np.zeros(num_arms) #Set scoreboard for bandit arms to 0.\n",
        "\n",
        "init = tf.global_variables_initializer()\n",
        "\n",
        "# Launch the tensorflow graph\n",
        "with tf.Session() as sess:\n",
        "    sess.run(init)\n",
        "    i = 0\n",
        "    while i < total_episodes:\n",
        "        \n",
        "        #Choose action according to Boltzmann distribution.\n",
        "        actions = sess.run(output)\n",
        "        a = np.random.choice(actions,p=actions)\n",
        "        action = np.argmax(actions == a)\n",
        "\n",
        "        reward = pullBandit(bandit_arms[action]) #Get our reward from picking one of the bandit arms.\n",
        "        \n",
        "        #Update the network.\n",
        "        _,resp,ww = sess.run([update,responsible_output,weights], feed_dict={reward_holder:[reward],action_holder:[action]})\n",
        "        \n",
        "        #Update our running tally of scores.\n",
        "        total_reward[action] += reward\n",
        "        if i % 50 == 0:\n",
        "            print(\"Running reward for the \" + str(num_arms) + \" arms of the bandit: \" + str(total_reward))\n",
        "        i+=1\n",
        "print(\"\\nThe agent thinks arm \" + str(np.argmax(ww)+1) + \" is the most promising....\")\n",
        "if np.argmax(ww) == np.argmax(-np.array(bandit_arms)):\n",
        "    print(\"...and it was right!\")\n",
        "else:\n",
        "    print(\"...and it was wrong!\")"
      ],
      "execution_count": 11,
      "outputs": [
        {
          "output_type": "stream",
          "name": "stdout",
          "text": [
            "Running reward for the 4 arms of the bandit: [-1.  0.  0.  0.]\n",
            "Running reward for the 4 arms of the bandit: [ 1. 10. -2. 16.]\n",
            "Running reward for the 4 arms of the bandit: [-4.  7. -5. 27.]\n",
            "Running reward for the 4 arms of the bandit: [-1.  9. -2. 41.]\n",
            "Running reward for the 4 arms of the bandit: [-2. 11. -1. 55.]\n",
            "Running reward for the 4 arms of the bandit: [ 0. 12.  3. 68.]\n",
            "Running reward for the 4 arms of the bandit: [-1. 11.  7. 84.]\n",
            "Running reward for the 4 arms of the bandit: [-6. 13.  2. 98.]\n",
            "Running reward for the 4 arms of the bandit: [-12.  10.   1. 110.]\n",
            "Running reward for the 4 arms of the bandit: [-14.   3.   4. 126.]\n",
            "Running reward for the 4 arms of the bandit: [-14.   0.   8. 133.]\n",
            "Running reward for the 4 arms of the bandit: [-15.   4.  13. 143.]\n",
            "Running reward for the 4 arms of the bandit: [-14.   5.  15. 159.]\n",
            "Running reward for the 4 arms of the bandit: [-18.   4.  20. 169.]\n",
            "Running reward for the 4 arms of the bandit: [-23.   9.  28. 179.]\n",
            "Running reward for the 4 arms of the bandit: [-23.   7.  37. 196.]\n",
            "Running reward for the 4 arms of the bandit: [-22.   5.  39. 215.]\n",
            "Running reward for the 4 arms of the bandit: [-18.   3.  40. 228.]\n",
            "Running reward for the 4 arms of the bandit: [-17.   0.  45. 247.]\n",
            "Running reward for the 4 arms of the bandit: [-24.   0.  41. 264.]\n",
            "\n",
            "The agent thinks arm 4 is the most promising....\n",
            "...and it was right!\n"
          ]
        }
      ]
    }
  ]
}