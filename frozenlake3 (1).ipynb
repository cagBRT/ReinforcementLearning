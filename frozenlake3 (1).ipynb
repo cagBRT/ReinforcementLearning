{
 "cells": [
  {
   "cell_type": "code",
   "execution_count": null,
   "metadata": {},
   "outputs": [],
   "source": [
    "import gym\n",
    "import numpy as np "
   ]
  },
  {
   "cell_type": "code",
   "execution_count": null,
   "metadata": {},
   "outputs": [],
   "source": [
    "# 1. Load Environment and Q-table structure\n",
    "#is_slippery = False - this is the deterministic situation\n",
    "#if you remove it, you get the slippery \n",
    "env = gym.make(\"FrozenLake-v0\", is_slippery=False)\n",
    "Q = np.zeros([env.observation_space.n,env.action_space.n])\n",
    "# env.obeservation.n, env.action_space.n gives number of states and action in env loaded\n",
    "# 2. Parameters of Q-leanring\n",
    "eta = .628\n",
    "gma = .9\n",
    "episode = 10000\n",
    "rev_list = [] # rewards per episode calculate"
   ]
  },
  {
   "cell_type": "code",
   "execution_count": null,
   "metadata": {},
   "outputs": [],
   "source": [
    "# 3. Q-learning Algorithm\n",
    "for i in range(episode):\n",
    "    # Reset environment\n",
    "    print(\"New episode\")\n",
    "    print(\"state action\")\n",
    "    \n",
    "    s = env.reset()\n",
    "    info = env.step(env.action_space.sample())\n",
    "    rAll = 0\n",
    "    d = False\n",
    "    j = 0\n",
    "    #The Q-Table learning algorithm\n",
    "    while j < 99:\n",
    "        #env.render()\n",
    "        j+=1\n",
    "        # Choose action from Q table\n",
    "        a = np.argmax(Q[s,:] + np.random.randn(1,env.action_space.n)*(1./(i+1)))\n",
    "        #Get new state & reward from environment\n",
    "        s1,r,d,_ = env.step(a)\n",
    "        #Update Q-Table with new knowledge\n",
    "        Q[s,a] = Q[s,a] + eta*(r + gma*np.max(Q[s1,:]) - Q[s,a])\n",
    "        rAll += r\n",
    "        s = s1\n",
    "        print(\"%i %i\" %(s,a))\n",
    "        print(\"reward = %f\" %r)\n",
    "        print(info)\n",
    "        #print(s1)\n",
    "        if d == True:\n",
    "            break\n",
    "    print(\"number of steps = %i\" %j)\n",
    "    rev_list.append(rAll)\n",
    "    #env.render()\n",
    "\n"
   ]
  },
  {
   "cell_type": "code",
   "execution_count": null,
   "metadata": {},
   "outputs": [],
   "source": [
    "print (\"Reward Sum on all episodes %f\"  %(sum(rev_list)/episode))\n",
    "print (\"Final Values Q-Table\")\n",
    "print (Q)"
   ]
  },
  {
   "cell_type": "code",
   "execution_count": null,
   "metadata": {},
   "outputs": [],
   "source": [
    "env.reset()\n",
    "\n",
    "for episode in range(5):\n",
    "    state = env.reset()\n",
    "    step = 0\n",
    "    done = False\n",
    "    print(\"****************************************************\")\n",
    "    print(\"EPISODE \", episode)\n",
    "\n",
    "    for step in range(99):\n",
    "        env.render()\n",
    "        # Take the action (index) that have the maximum expected future reward given that state\n",
    "        action = np.argmax(Q[state,:])\n",
    "        \n",
    "        new_state, reward, done, info = env.step(action)\n",
    "        \n",
    "        if done:\n",
    "            break\n",
    "        state = new_state\n",
    "env.close()"
   ]
  },
  {
   "cell_type": "code",
   "execution_count": null,
   "metadata": {},
   "outputs": [],
   "source": []
  }
 ],
 "metadata": {
  "kernelspec": {
   "display_name": "Python 3",
   "language": "python",
   "name": "python3"
  },
  "language_info": {
   "codemirror_mode": {
    "name": "ipython",
    "version": 3
   },
   "file_extension": ".py",
   "mimetype": "text/x-python",
   "name": "python",
   "nbconvert_exporter": "python",
   "pygments_lexer": "ipython3",
   "version": "3.7.3"
  }
 },
 "nbformat": 4,
 "nbformat_minor": 2
}
